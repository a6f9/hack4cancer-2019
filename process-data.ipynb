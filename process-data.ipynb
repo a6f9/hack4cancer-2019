{
 "cells": [
  {
   "cell_type": "code",
   "execution_count": 90,
   "metadata": {
    "colab": {},
    "colab_type": "code",
    "id": "1tpl9DAUTn2A"
   },
   "outputs": [],
   "source": [
    "## Open data\n",
    "import pandas as pd\n",
    "data = pd.read_sas('data/synth_cancer_linked_file.sas7bdat')\n",
    "features = pd.read_csv('data/features.csv')"
   ]
  },
  {
   "cell_type": "code",
   "execution_count": 91,
   "metadata": {},
   "outputs": [],
   "source": [
    "# drop rows\n",
    "features = pd.read_csv('data/features.csv')\n",
    "to_keep = features.names.values[features.Keep.values == 1]\n",
    "data = data.loc[(data.YEARDIAG_SYNTH.values >= 2010) & (data.YEARDIAG_SYNTH.values <= 2014)]\n",
    "data = data.loc[(data.SURVINT_SYNTH.values < 99998)]\n",
    "data = data.loc[data.CENSOR_SYNTH.values < 2]"
   ]
  },
  {
   "cell_type": "code",
   "execution_count": 92,
   "metadata": {},
   "outputs": [],
   "source": [
    "# bin features\n",
    "data.HCDD_SYNTH = data.HCDD_SYNTH.apply(lambda x : 1 if x <= 4 else 2)\n",
    "data.IMMDER_SYNTH = data.IMMDER_SYNTH.apply(lambda x : 2 if x >= 2 else 1)\n",
    "\n",
    "cancer_features = list(range(np.where(data.columns == 'CERVIX_SYNTH')[0][0],\n",
    "                          data.shape[1]))\n",
    "\n",
    "for cancer_feature in cancer_features:\n",
    "    feature_name = data.columns[cancer_feature]\n",
    "    data[feature_name] = data[feature_name].apply(lambda x : 2 if x >= 2 else 1)"
   ]
  },
  {
   "cell_type": "code",
   "execution_count": 93,
   "metadata": {
    "colab": {
     "base_uri": "https://localhost:8080/",
     "height": 222
    },
    "colab_type": "code",
    "executionInfo": {
     "elapsed": 352,
     "status": "ok",
     "timestamp": 1572652737653,
     "user": {
      "displayName": "Tudor Schlanger",
      "photoUrl": "https://lh3.googleusercontent.com/a-/AAuE7mAsXlCjmzP-W5nvXoSLs8MynVN0LK4vXY788mc0Tg=s64",
      "userId": "12331456377542864566"
     },
     "user_tz": 240
    },
    "id": "meMj1pdPVFxL",
    "outputId": "bba3eb1d-e11c-405b-b0e2-c0d6c08d86eb"
   },
   "outputs": [],
   "source": [
    "# label features\n",
    "socio_econ_factors = ['TREGION_SYNTH', 'AGE_IMM_REVISED_group_SYNTH', 'CITBIR_SYNTH', \n",
    "                      'COWD_SYNTH', 'DVISMIN_SYNTH', 'EFCNT_PP_REVISED_SYNTH', \n",
    "                      'FOL_SYNTH', 'FPTIM_SYNTH', 'HCDD_SYNTH', 'IMMDER_SYNTH', \n",
    "                      'KID_GROUP_SYNTH', 'MARST_SYNTH', 'RUINDFG_SYNTH', 'YRIM_GROUP_SYNTH', \n",
    "                      'D_LICORATIO_DA_BEF_SYNTH', 'AGEDIAG_SYNTH', 'PREGION_SYNTH', 'SEX_SYNTH']\n",
    "\n",
    "categorical_features = ['TREGION_SYNTH', 'STAGE_SYNTH', 'CENSOR_SYNTH', 'S_DEAD_SYNTH',\n",
    "                        'SURG_1_SYNTH', 'SURG_2_SYNTH', 'AGE_IMM_REVISED_group_SYNTH', \n",
    "                        'CITBIR_SYNTH', 'COWD_SYNTH', 'DVISMIN_SYNTH', 'FOL_SYNTH', \n",
    "                        'FPTIM_SYNTH', 'HCDD_SYNTH', 'IMMDER_SYNTH', 'MARST_SYNTH', \n",
    "                        'RUINDFG_SYNTH', 'YRIM_GROUP_SYNTH', 'PREGION_SYNTH', 'SEX_SYNTH']\n",
    "\n",
    "def intersection(lst1, lst2): \n",
    "    lst3 = [value for value in lst1 if value in lst2] \n",
    "    return lst3 \n",
    "\n",
    "socio_econ_factors = intersection(socio_econ_factors, to_keep)\n",
    "categorical_features = intersection(categorical_features, to_keep)"
   ]
  },
  {
   "cell_type": "code",
   "execution_count": 94,
   "metadata": {},
   "outputs": [],
   "source": [
    "# map to categorical\n",
    "for feature in categorical_features:\n",
    "    data[feature] = data[feature].astype('category')"
   ]
  }
 ],
 "metadata": {
  "colab": {
   "collapsed_sections": [],
   "name": "hackathon.ipynb",
   "provenance": []
  },
  "kernelspec": {
   "display_name": "Python 3",
   "language": "python",
   "name": "python3"
  },
  "language_info": {
   "codemirror_mode": {
    "name": "ipython",
    "version": 3
   },
   "file_extension": ".py",
   "mimetype": "text/x-python",
   "name": "python",
   "nbconvert_exporter": "python",
   "pygments_lexer": "ipython3",
   "version": "3.7.3"
  }
 },
 "nbformat": 4,
 "nbformat_minor": 1
}
