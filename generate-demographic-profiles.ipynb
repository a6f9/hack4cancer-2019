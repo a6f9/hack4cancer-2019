{
 "cells": [
  {
   "cell_type": "markdown",
   "metadata": {},
   "source": [
    "## Preprocess data"
   ]
  },
  {
   "cell_type": "code",
   "execution_count": 367,
   "metadata": {
    "colab": {},
    "colab_type": "code",
    "id": "1tpl9DAUTn2A"
   },
   "outputs": [],
   "source": [
    "## Open data\n",
    "import pandas as pd\n",
    "data = pd.read_sas('data/synth_cancer_linked_file.sas7bdat')\n",
    "features = pd.read_csv('data/features.csv')"
   ]
  },
  {
   "cell_type": "code",
   "execution_count": 368,
   "metadata": {},
   "outputs": [],
   "source": [
    "# drop rows\n",
    "features = pd.read_csv('data/features.csv')\n",
    "to_keep = features.names.values[features.Keep.values == 1]\n",
    "data = data.loc[(data.YEARDIAG_SYNTH.values >= 2010) & (data.YEARDIAG_SYNTH.values <= 2014)]\n",
    "data = data.loc[(data.SURVINT_SYNTH.values < 99998)]\n",
    "data = data.loc[data.CENSOR_SYNTH.values < 2]\n",
    "data = data.loc[data.STAGE_SYNTH.values < 6]"
   ]
  },
  {
   "cell_type": "code",
   "execution_count": 369,
   "metadata": {},
   "outputs": [],
   "source": [
    "# bin features\n",
    "data.HCDD_SYNTH = data.HCDD_SYNTH.apply(lambda x : 1 if x <= 4 else 2)\n",
    "data.IMMDER_SYNTH = data.IMMDER_SYNTH.apply(lambda x : 2 if x >= 2 else 1)\n",
    "\n",
    "cancer_features = list(range(np.where(data.columns == 'CERVIX_SYNTH')[0][0],\n",
    "                          data.shape[1]))\n",
    "\n",
    "for cancer_feature in cancer_features:\n",
    "    feature_name = data.columns[cancer_feature]\n",
    "    data[feature_name] = data[feature_name].apply(lambda x : 2 if x >= 2 else 1)"
   ]
  },
  {
   "cell_type": "code",
   "execution_count": 370,
   "metadata": {
    "colab": {
     "base_uri": "https://localhost:8080/",
     "height": 222
    },
    "colab_type": "code",
    "executionInfo": {
     "elapsed": 352,
     "status": "ok",
     "timestamp": 1572652737653,
     "user": {
      "displayName": "Tudor Schlanger",
      "photoUrl": "https://lh3.googleusercontent.com/a-/AAuE7mAsXlCjmzP-W5nvXoSLs8MynVN0LK4vXY788mc0Tg=s64",
      "userId": "12331456377542864566"
     },
     "user_tz": 240
    },
    "id": "meMj1pdPVFxL",
    "outputId": "bba3eb1d-e11c-405b-b0e2-c0d6c08d86eb"
   },
   "outputs": [],
   "source": [
    "# label features\n",
    "socio_econ_factors = ['TREGION_SYNTH', 'AGE_IMM_REVISED_group_SYNTH', 'CITBIR_SYNTH', \n",
    "                      'COWD_SYNTH', 'DVISMIN_SYNTH', 'EFCNT_PP_REVISED_SYNTH', \n",
    "                      'FOL_SYNTH', 'FPTIM_SYNTH', 'HCDD_SYNTH', 'IMMDER_SYNTH', \n",
    "                      'KID_GROUP_SYNTH', 'MARST_SYNTH', 'RUINDFG_SYNTH', 'YRIM_GROUP_SYNTH', \n",
    "                      'D_LICORATIO_DA_BEF_SYNTH', 'AGEDIAG_SYNTH', 'PREGION_SYNTH', 'SEX_SYNTH']\n",
    "\n",
    "categorical_features = ['TREGION_SYNTH', 'STAGE_SYNTH', 'CENSOR_SYNTH', 'S_DEAD_SYNTH',\n",
    "                        'SURG_1_SYNTH', 'SURG_2_SYNTH', 'AGE_IMM_REVISED_group_SYNTH', \n",
    "                        'CITBIR_SYNTH', 'COWD_SYNTH', 'DVISMIN_SYNTH', 'FOL_SYNTH', \n",
    "                        'FPTIM_SYNTH', 'HCDD_SYNTH', 'IMMDER_SYNTH', 'MARST_SYNTH', \n",
    "                        'RUINDFG_SYNTH', 'YRIM_GROUP_SYNTH', 'PREGION_SYNTH', 'SEX_SYNTH']\n",
    "\n",
    "def intersection(lst1, lst2): \n",
    "    lst3 = [value for value in lst1 if value in lst2] \n",
    "    return lst3 \n",
    "\n",
    "socio_econ_factors = intersection(socio_econ_factors, to_keep)\n",
    "categorical_features = intersection(categorical_features, to_keep)"
   ]
  },
  {
   "cell_type": "code",
   "execution_count": 371,
   "metadata": {},
   "outputs": [],
   "source": [
    "stage = data.STAGE_SYNTH.values\n",
    "is_late = np.zeros(data.shape[0])\n",
    "is_late[stage >= 3] = 1\n",
    "n_days_survive = data.SURVINT_SYNTH.values\n",
    "is_prostate = data.PROSTATE_SYNTH.values"
   ]
  },
  {
   "cell_type": "code",
   "execution_count": 372,
   "metadata": {},
   "outputs": [],
   "source": [
    "# map to categorical\n",
    "for feature in categorical_features:\n",
    "    data[feature] = data[feature].astype('category')"
   ]
  },
  {
   "cell_type": "code",
   "execution_count": 360,
   "metadata": {},
   "outputs": [],
   "source": [
    "data = pd.get_dummies(data[socio_econ_factors])"
   ]
  },
  {
   "cell_type": "markdown",
   "metadata": {},
   "source": [
    "## Analysis on survival rate"
   ]
  },
  {
   "cell_type": "code",
   "execution_count": 322,
   "metadata": {},
   "outputs": [],
   "source": [
    "from sklearn.cluster import KMeans\n",
    "from sklearn.metrics import silhouette_score, davies_bouldin_score\n",
    "\n",
    "def between_ss(labels, n_days_survive):\n",
    "    n_labels = np.unique(labels).shape[0]\n",
    "    sum_ = 0\n",
    "    mean = np.mean(n_days_survive)\n",
    "\n",
    "    for i in range(n_labels):\n",
    "        ni = sum(labels == i)\n",
    "        cluster_mean = np.mean(n_days_survive[labels == i])\n",
    "        sum_ = sum_ + ni*((mean - cluster_mean)**2)\n",
    "        \n",
    "    return sum_/(n_labels - 1)\n",
    "\n",
    "def within_ss(labels, n_days_survive):\n",
    "    n_labels = np.unique(labels).shape[0]\n",
    "    sum_ = 0\n",
    "    \n",
    "    for i in range(n_labels):\n",
    "        cluster_mean = np.mean(n_days_survive[labels == i])\n",
    "        sum_ = sum_ + sum(np.square(n_days_survive[labels == i] - cluster_mean))\n",
    "        \n",
    "    return sum_/(labels.shape[0] - n_labels)\n",
    "\n",
    "def get_f_stat(labels, n_days_survive):\n",
    "    return between_ss(labels, n_days_survive)/within_ss(labels, n_days_survive)\n",
    "\n",
    "def get_means(labels, n_days_survive):\n",
    "    n_labels = np.unique(labels).shape[0]\n",
    "    means = np.zeros(n_labels)\n",
    "    \n",
    "    for i in range(n_labels):\n",
    "        means[i] = np.mean(n_days_survive[labels == i])\n",
    "        \n",
    "    return means\n",
    "    \n",
    "n_clusters = list(range(2, 11))\n",
    "max_f_stat = -1\n",
    "\n",
    "for n_cluster in n_clusters:\n",
    "    model = KMeans(n_cluster, n_init=100).fit(data)\n",
    "    labels = model.labels_\n",
    "    f_stat = get_f_stat(labels, n_days_survive)\n",
    "        \n",
    "    if f_stat > max_f_stat:\n",
    "        best_n_cluster = n_cluster\n",
    "        max_f_stat = f_stat\n",
    "        max_f_labels = labels\n",
    "        max_f_model = model"
   ]
  },
  {
   "cell_type": "code",
   "execution_count": 323,
   "metadata": {},
   "outputs": [],
   "source": [
    "means = get_means(max_f_labels, n_days_survive)\n",
    "worst_cluster = np.where(means == min(means))[0][0]"
   ]
  },
  {
   "cell_type": "code",
   "execution_count": 324,
   "metadata": {},
   "outputs": [
    {
     "name": "stdout",
     "output_type": "stream",
     "text": [
      "EFCNT_PP_REVISED_SYNTH: 1.8609077598828732\n",
      "D_LICORATIO_DA_BEF_SYNTH: 5.126207906295771\n",
      "AGEDIAG_SYNTH: 86.02225475841942\n",
      "TREGION_SYNTH: 3\n",
      "AGE_IMM_REVISED_group_SYNTH: 14\n",
      "DVISMIN_SYNTH: 13\n",
      "HCDD_SYNTH: 1\n",
      "IMMDER_SYNTH: 1\n",
      "MARST_SYNTH: 2\n",
      "RUINDFG_SYNTH: 2\n",
      "SEX_SYNTH: 1\n"
     ]
    }
   ],
   "source": [
    "features = ['EFCNT_PP_REVISED_SYNTH', 'D_LICORATIO_DA_BEF_SYNTH', 'AGEDIAG_SYNTH', \n",
    "            'TREGION_SYNTH', 'AGE_IMM_REVISED_group_SYNTH', 'DVISMIN_SYNTH', \n",
    "            'HCDD_SYNTH', 'IMMDER_SYNTH', 'MARST_SYNTH', 'RUINDFG_SYNTH', \n",
    "            'SEX_SYNTH']\n",
    "\n",
    "for feature in features:\n",
    "    feature_ind = []\n",
    "    \n",
    "    for i in range(len(data.columns)):\n",
    "        if feature in data.columns[i]:\n",
    "            feature_ind.append(i)\n",
    "            \n",
    "    if len(feature_ind) == 1:\n",
    "        print(feature + ': ' +\n",
    "              str(max_var_model.cluster_centers_[worst_cluster][feature_ind][0]))\n",
    "    else:\n",
    "        max_val = max(max_var_model.cluster_centers_[worst_cluster][feature_ind])\n",
    "        print(feature + ': ' +\n",
    "             str(np.where(max_var_model.cluster_centers_[worst_cluster][feature_ind] == max_val)[0][0] + 1))"
   ]
  },
  {
   "cell_type": "markdown",
   "metadata": {},
   "source": [
    "## Analysis on late stage diagnosis"
   ]
  },
  {
   "cell_type": "code",
   "execution_count": 2,
   "metadata": {},
   "outputs": [],
   "source": [
    "data = data[socio_econ_factors]\n",
    "\n",
    "from sklearn.cluster import KMeans\n",
    "from sklearn.metrics import silhouette_score, davies_bouldin_score\n",
    "\n",
    "def get_props(labels, is_late):\n",
    "    # computes proportion of is late for each\n",
    "    n_labels = np.unique(labels).shape[0]\n",
    "    props = np.zeros(n_labels)\n",
    "    \n",
    "    for i in range(n_labels):\n",
    "        props[i] = sum(is_late[labels == i])/sum(labels == i)\n",
    "        \n",
    "    return props\n",
    "\n",
    "def get_variance(labels, is_late):\n",
    "    # computes proportion of is late for each label\n",
    "    # and returns total variance of the proportions\n",
    "    \n",
    "    props = get_props(labels, is_late)\n",
    "    \n",
    "    return np.var(props)\n",
    "\n",
    "\n",
    "n_clusters = list(range(2, 11))\n",
    "best_score = 0\n",
    "max_var = -1\n",
    "\n",
    "for n_cluster in n_clusters:\n",
    "    model = KMeans(n_cluster, n_init=100).fit(data)\n",
    "    labels = model.labels_\n",
    "    variance = get_variance(labels, is_late)\n",
    "    \n",
    "    if variance > max_var:\n",
    "        best_n_cluster = n_cluster\n",
    "        max_var = variance\n",
    "        max_var_labels = labels\n",
    "        max_var_model = model"
   ]
  },
  {
   "cell_type": "code",
   "execution_count": 232,
   "metadata": {},
   "outputs": [],
   "source": [
    "def get_props(labels, is_late):\n",
    "    # computes proportion of is late for each\n",
    "    n_labels = np.unique(labels).shape[0]\n",
    "    props = np.zeros(n_labels)\n",
    "    \n",
    "    for i in range(n_labels):\n",
    "        props[i] = sum(is_late[labels == i])/sum(labels == i)\n",
    "        \n",
    "    return props\n",
    "\n",
    "props = get_props(max_var_labels, is_late)\n",
    "worst_cluster = np.where(props == max(props))[0][0]"
   ]
  },
  {
   "cell_type": "code",
   "execution_count": 268,
   "metadata": {},
   "outputs": [
    {
     "name": "stdout",
     "output_type": "stream",
     "text": [
      "EFCNT_PP_REVISED_SYNTH: 2.56345800122624\n",
      "D_LICORATIO_DA_BEF_SYNTH: 6.345187001839372\n",
      "AGEDIAG_SYNTH: 58.410177805028084\n",
      "TREGION_SYNTH: 3\n",
      "AGE_IMM_REVISED_group_SYNTH: 14\n",
      "DVISMIN_SYNTH: 13\n",
      "HCDD_SYNTH: 1\n",
      "IMMDER_SYNTH: 1\n",
      "MARST_SYNTH: 2\n",
      "RUINDFG_SYNTH: 2\n",
      "SEX_SYNTH: 2\n"
     ]
    }
   ],
   "source": [
    "features = ['EFCNT_PP_REVISED_SYNTH', 'D_LICORATIO_DA_BEF_SYNTH', 'AGEDIAG_SYNTH', \n",
    "            'TREGION_SYNTH', 'AGE_IMM_REVISED_group_SYNTH', 'DVISMIN_SYNTH', \n",
    "            'HCDD_SYNTH', 'IMMDER_SYNTH', 'MARST_SYNTH', 'RUINDFG_SYNTH', \n",
    "            'SEX_SYNTH']\n",
    "\n",
    "for feature in features:\n",
    "    feature_ind = []\n",
    "    \n",
    "    for i in range(len(data.columns)):\n",
    "        if feature in data.columns[i]:\n",
    "            feature_ind.append(i)\n",
    "            \n",
    "    if len(feature_ind) == 1:\n",
    "        print(feature + ': ' +\n",
    "              str(max_var_model.cluster_centers_[worst_cluster][feature_ind][0]))\n",
    "    else:\n",
    "        max_val = max(max_var_model.cluster_centers_[worst_cluster][feature_ind])\n",
    "        print(feature + ': ' +\n",
    "             str(np.where(max_var_model.cluster_centers_[worst_cluster][feature_ind] == max_val)[0][0] + 1))"
   ]
  }
 ],
 "metadata": {
  "colab": {
   "collapsed_sections": [],
   "name": "hackathon.ipynb",
   "provenance": []
  },
  "kernelspec": {
   "display_name": "Python 3",
   "language": "python",
   "name": "python3"
  },
  "language_info": {
   "codemirror_mode": {
    "name": "ipython",
    "version": 3
   },
   "file_extension": ".py",
   "mimetype": "text/x-python",
   "name": "python",
   "nbconvert_exporter": "python",
   "pygments_lexer": "ipython3",
   "version": "3.7.3"
  }
 },
 "nbformat": 4,
 "nbformat_minor": 1
}
